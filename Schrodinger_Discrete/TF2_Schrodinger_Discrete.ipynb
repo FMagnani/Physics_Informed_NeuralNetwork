{
  "nbformat": 4,
  "nbformat_minor": 0,
  "metadata": {
    "accelerator": "GPU",
    "colab": {
      "name": "TF2_Schrodinger_Discrete.ipynb",
      "provenance": [],
      "authorship_tag": "ABX9TyOd0VUfM3dyu35+u12kIs6m",
      "include_colab_link": true
    },
    "kernelspec": {
      "display_name": "Python 3",
      "name": "python3"
    },
    "language_info": {
      "name": "python"
    }
  },
  "cells": [
    {
      "cell_type": "markdown",
      "metadata": {
        "id": "view-in-github",
        "colab_type": "text"
      },
      "source": [
        "<a href=\"https://colab.research.google.com/github/FMagnani/Physics_Informed_NeuralNetwork/blob/main/Schrodinger_Discrete/TF2_Schrodinger_Discrete.ipynb\" target=\"_parent\"><img src=\"https://colab.research.google.com/assets/colab-badge.svg\" alt=\"Open In Colab\"/></a>"
      ]
    },
    {
      "cell_type": "markdown",
      "metadata": {
        "id": "NcgUvtliZtRa"
      },
      "source": [
        "# Requirements"
      ]
    },
    {
      "cell_type": "markdown",
      "metadata": {
        "id": "X1zt-W6paKEE"
      },
      "source": [
        "Cloning GitHub repo "
      ]
    },
    {
      "cell_type": "code",
      "metadata": {
        "colab": {
          "base_uri": "https://localhost:8080/"
        },
        "id": "tgXkaBveZfDB",
        "outputId": "53c39ba2-34b0-4e85-ce6d-1c5cefbefa32"
      },
      "source": [
        "!git clone https://github.com/FMagnani/Physics_Informed_NeuralNetwork.git"
      ],
      "execution_count": null,
      "outputs": [
        {
          "output_type": "stream",
          "text": [
            "Cloning into 'Physics_Informed_NeuralNetwork'...\n",
            "remote: Enumerating objects: 830, done.\u001b[K\n",
            "remote: Counting objects: 100% (249/249), done.\u001b[K\n",
            "remote: Compressing objects: 100% (199/199), done.\u001b[K\n",
            "remote: Total 830 (delta 77), reused 112 (delta 49), pack-reused 581\u001b[K\n",
            "Receiving objects: 100% (830/830), 126.70 MiB | 10.35 MiB/s, done.\n",
            "Resolving deltas: 100% (216/216), done.\n",
            "Checking out files: 100% (367/367), done.\n"
          ],
          "name": "stdout"
        }
      ]
    },
    {
      "cell_type": "markdown",
      "metadata": {
        "id": "SF-nxu-Saf4_"
      },
      "source": [
        "Move to the directory with the script"
      ]
    },
    {
      "cell_type": "code",
      "metadata": {
        "colab": {
          "base_uri": "https://localhost:8080/"
        },
        "id": "2NLUnnzvZyoY",
        "outputId": "31279f4b-3e2e-4947-b28d-b0c8926a5d43"
      },
      "source": [
        "cd Physics_Informed_NeuralNetwork/Schrodinger_Discrete/"
      ],
      "execution_count": null,
      "outputs": [
        {
          "output_type": "stream",
          "text": [
            "/content/Physics_Informed_NeuralNetwork/Schrodinger_Discrete\n"
          ],
          "name": "stdout"
        }
      ]
    },
    {
      "cell_type": "markdown",
      "metadata": {
        "id": "_GghAPEfKYY3"
      },
      "source": [
        "#Class"
      ]
    },
    {
      "cell_type": "markdown",
      "metadata": {
        "id": "DzU61x05PP25"
      },
      "source": [
        "Use this cell instead of importing the class, for debugging or to try stuff"
      ]
    },
    {
      "cell_type": "code",
      "metadata": {
        "id": "5lGYuTrxKZ5K"
      },
      "source": [
        "\n",
        "import sys\n",
        "sys.path.insert(0, '../Utils/')\n",
        "\n",
        "import tensorflow as tf\n",
        "import numpy as np\n",
        "\n",
        "from NeuralNet import neural_net, PhysicsInformedNN\n",
        "\n",
        "#%%\n",
        "\n",
        "class neural_net_2out(neural_net):\n",
        "    \"\"\"\n",
        "    Input: tensor of shape (N,1) <-- The x coordinates\n",
        "    Output: tensor of shape (N,q+1)\n",
        "    \n",
        "    The 2 tensors in output will be the RK stages for the Real and for the Imaginary part.\n",
        "    \"\"\"\n",
        "    \n",
        "    def __init__(self, ub, lb, layers):\n",
        "        super(neural_net_2out, self).__init__(ub, lb, layers)\n",
        "\n",
        "    def call(self, inputs, training=False):\n",
        "        \"\"\"\n",
        "        Input will have shape: (N,1) <-- the x coordinates\n",
        "        Output will be 2 tensors with shape: (N,q+1)\n",
        "        \n",
        "        The input is duplicated before to be fed into the net.\n",
        "        \"\"\"\n",
        "        \n",
        "#        doubled_inputs = tf.stack([inputs,inputs], axis=0)\n",
        "    \n",
        "        output = super(neural_net_2out, self).call(inputs)\n",
        "        \n",
        "        half_len = int(output.shape[1]/2)\n",
        "        \n",
        "        U = output[:, :half_len]\n",
        "        V = output[:, half_len:]\n",
        "        \n",
        "        return U, V\n",
        "\n",
        "\n",
        "class Schrodinger_PINN(PhysicsInformedNN):\n",
        "    \n",
        "    def __init__(self, x0, u0,v0, layers, dt, lb, ub, q):\n",
        "        \n",
        "        super(Schrodinger_PINN, self).__init__()\n",
        "        \n",
        "        # Network architecture\n",
        "        self.model = neural_net_2out(ub, lb, layers)        \n",
        "        \n",
        "        # Data initialization\n",
        "        self.x0 = x0\n",
        "        x1 = np.vstack((lb,ub))\n",
        "        self.x1 = tf.convert_to_tensor(x1)\n",
        "        self.u0 = u0\n",
        "        self.v0 = v0\n",
        "        \n",
        "        self.dt = dt\n",
        "        self.q = max(q,1)\n",
        "        \n",
        "        # Load IRK weights\n",
        "        tmp = np.float64(np.loadtxt('../Utils/IRK_weights/Butcher_IRK%d.txt' % (q), ndmin = 2))\n",
        "        self.IRK_weights = np.reshape(tmp[0:q**2+q], (q+1,q))\n",
        "        self.IRK_times = tmp[q**2+q:]\n",
        " \n",
        "    \n",
        "    def loss(self):\n",
        "        \n",
        "        u0 = self.u0\n",
        "        v0 = self.v0\n",
        "        x0 = self.x0\n",
        "        x1 = self.x1\n",
        "        \n",
        "        U0_pred, V0_pred = self.net_UV0(x0) # N x (q+1), N x (q+1)\n",
        "        U1_pred, V1_pred, U1_x_pred, V1_x_pred = self.net_UV1(x1) # N1 x (q+1)\n",
        "        \n",
        "        y = tf.reduce_sum(tf.square(u0 - U0_pred)) + \\\n",
        "            tf.reduce_sum(tf.square(v0 - V0_pred))\n",
        "        \n",
        "        yB = tf.reduce_sum(tf.square(U1_pred[0,:] - U1_pred[1,:])) + \\\n",
        "            tf.reduce_sum(tf.square(U1_x_pred[0,:] - U1_x_pred[1,:])) + \\\n",
        "            tf.reduce_sum(tf.square(V1_pred[0,:] - V1_pred[1,:])) + \\\n",
        "            tf.reduce_sum(tf.square(V1_x_pred[0,:] - V1_x_pred[1,:])) \n",
        "\n",
        "        return y + yB\n",
        "\n",
        "\n",
        "    def net_UV0(self, x):\n",
        "        \n",
        "        with tf.GradientTape(persistent=True) as tape:\n",
        "            tape.watch(x)\n",
        "\n",
        "            U1, V1 = self.model(x)\n",
        "            U = U1[:,:-1]\n",
        "            V = V1[:,:-1]\n",
        "            \n",
        "            U_x = tape.gradient(U, x)\n",
        "            V_x = tape.gradient(V, x)\n",
        "        \n",
        "        U_xx = tape.gradient(U_x, x)\n",
        "        V_xx = tape.gradient(V_x, x)\n",
        "        \n",
        "        del tape\n",
        "                \n",
        "        F_u = -0.5*V_xx - V\n",
        "        F_v = +0.5*U_xx + U\n",
        "            \n",
        "        U0 = U1 - self.dt*tf.matmul(F_u, self.IRK_weights.T)\n",
        "        V0 = V1 - self.dt*tf.matmul(F_v, self.IRK_weights.T)\n",
        "        \n",
        "        return U0, V0\n",
        "\n",
        "\n",
        "    def net_UV1(self, x):\n",
        "        \n",
        "        with tf.GradientTape(persistent=True) as tape:\n",
        "            tape.watch(x)\n",
        "            U1, V1 = self.model(x)\n",
        "\n",
        "        U1_x = tape.gradient(U1, x)  \n",
        "        V1_x = tape.gradient(V1, x)\n",
        "\n",
        "        return U1,V1, U1_x,V1_x # N x (q+1)\n",
        "\n",
        "\n",
        "    def predict(self, x):\n",
        "        \n",
        "        U1, V1 = self.model(x)\n",
        "        \n",
        "        return U1, V1\n",
        "\n"
      ],
      "execution_count": null,
      "outputs": []
    },
    {
      "cell_type": "markdown",
      "metadata": {
        "id": "4MBjkElF7iFI"
      },
      "source": [
        "# Main"
      ]
    },
    {
      "cell_type": "markdown",
      "metadata": {
        "id": "KdJs3KrV7j2e"
      },
      "source": [
        "Import"
      ]
    },
    {
      "cell_type": "code",
      "metadata": {
        "id": "EqS-TMdN7odp"
      },
      "source": [
        "import numpy as np\n",
        "import tensorflow as tf\n",
        "import scipy.io\n",
        "import matplotlib.pyplot as plt\n",
        " \n",
        "from Schrodinger_Discrete_PINN import Schrodinger_PINN\n",
        "from SD_plotting import plot_slice\n",
        "\n",
        "import sys\n",
        "sys.path.insert(0, '../Utils/')\n",
        "from plotting import plot_Adam_history"
      ],
      "execution_count": null,
      "outputs": []
    },
    {
      "cell_type": "markdown",
      "metadata": {
        "id": "abnGMRFE7qfx"
      },
      "source": [
        "Data and model initialization"
      ]
    },
    {
      "cell_type": "code",
      "metadata": {
        "id": "VwlySSwS7sTS"
      },
      "source": [
        "    \n",
        "# Set random seed\n",
        "np.random.seed(1234)\n",
        "tf.random.set_seed(1234)\n",
        " \n",
        "# Network architecture    \n",
        "q = 4\n",
        "layers = [2, 100, 100, 100, 100, 2*(q+1)]\n",
        "    \n",
        "# Domain bounds\n",
        "lb = np.array([-5.0, 0.0])          # left bottom corner\n",
        "ub = np.array([5.0, np.pi/2])       # right upper corner\n",
        " \n",
        "N = 150     # Number of training pts from x=0 <- The only needed!\n",
        " \n",
        "###    DATA PREPARATION    ###\n",
        "     \n",
        "# Import data\n",
        "data = scipy.io.loadmat('../Data/NLS.mat')\n",
        " \n",
        "    \n",
        "t = data['tt'].flatten()[:,None]\n",
        "x = data['x'].flatten()[:,None]\n",
        "Exact = data['uu']\n",
        "Exact_u = np.real(Exact).T\n",
        "Exact_v = np.imag(Exact).T\n",
        " \n",
        "Exact_h = np.sqrt(Exact_u**2 + Exact_v**2)\n",
        " \n",
        "    # t slices: 75, 100, 125\n",
        " \n",
        "idx_t0 = 0\n",
        "idx_t1 = 4\n",
        "dt = t[idx_t1] - t[idx_t0]\n",
        " \n",
        "idx_x = np.random.choice(Exact_u.shape[1], N, replace=False) \n",
        " \n",
        "# Initial data - u\n",
        "noise_u0 = 0.0\n",
        "x0 = x[idx_x,:]\n",
        "u0 = Exact_u[idx_t0:idx_t0+1,idx_x].T\n",
        "u0 = u0 + noise_u0*np.std(u0)*np.random.randn(u0.shape[0], u0.shape[1])\n",
        " \n",
        "# Initial data - v\n",
        "noise_v0 = 0.0\n",
        "x0 = x[idx_x,:]\n",
        "v0 = Exact_v[idx_t0:idx_t0+1,idx_x].T\n",
        "v0 = v0 + noise_v0*np.std(u0)*np.random.randn(u0.shape[0], u0.shape[1])\n",
        " \n",
        "# Test data\n",
        "x_star = x\n",
        "    \n",
        "# Conversion to tensors    \n",
        "x0 = tf.convert_to_tensor(x0)\n",
        "u0 = tf.convert_to_tensor(u0)\n",
        "v0 = tf.convert_to_tensor(v0)\n",
        "x_star = tf.convert_to_tensor(x_star)\n",
        " \n",
        "model = Schrodinger_PINN(x0, u0,v0, layers, dt, lb, ub, q)"
      ],
      "execution_count": null,
      "outputs": []
    },
    {
      "cell_type": "markdown",
      "metadata": {
        "id": "50M7dHwnGXVd"
      },
      "source": [
        "# dt = 0.07"
      ]
    },
    {
      "cell_type": "markdown",
      "metadata": {
        "id": "ONww5QVXC-OA"
      },
      "source": [
        "Setting\n"
      ]
    },
    {
      "cell_type": "code",
      "metadata": {
        "id": "zpIslXYvC_Q5"
      },
      "source": [
        "q = 10\n",
        "layers = [2, 20, 20, 20, 20, 2*(q+1)]\n",
        "\n",
        "idx_t0 = 0\n",
        "idx_t1 = 10\n",
        "dt = t[idx_t1] - t[idx_t0]\n",
        "\n",
        "model = Schrodinger_PINN(x0, u0,v0, layers, dt, lb, ub, q)\n",
        "\n",
        "#model.model(x0)"
      ],
      "execution_count": null,
      "outputs": []
    },
    {
      "cell_type": "markdown",
      "metadata": {
        "id": "HSTuQF7b79Rr"
      },
      "source": [
        "Training"
      ]
    },
    {
      "cell_type": "code",
      "metadata": {
        "colab": {
          "base_uri": "https://localhost:8080/"
        },
        "id": "tJQbEKgY7-Us",
        "outputId": "0a4aca1b-a2d0-4f8e-f2bb-533d1e8dd7fe"
      },
      "source": [
        " \n",
        "adam_iterations = 300     # Number of training steps \n",
        "lbfgs_max_iterations = 300 # Max iterations for lbfgs\n",
        "    \n",
        "loss_hist = model.train(adam_iterations, lbfgs_max_iterations)"
      ],
      "execution_count": null,
      "outputs": [
        {
          "output_type": "stream",
          "text": [
            "WARNING:tensorflow:Calling GradientTape.gradient on a persistent tape inside its context is significantly less efficient than calling it outside the context (it causes the gradient ops to be recorded on the tape, leading to increased CPU and memory usage). Only call GradientTape.gradient inside the context if you actually want to trace the gradient in order to compute higher order derivatives.\n",
            "WARNING:tensorflow:Calling GradientTape.gradient on a persistent tape inside its context is significantly less efficient than calling it outside the context (it causes the gradient ops to be recorded on the tape, leading to increased CPU and memory usage). Only call GradientTape.gradient inside the context if you actually want to trace the gradient in order to compute higher order derivatives.\n"
          ],
          "name": "stdout"
        },
        {
          "output_type": "stream",
          "text": [
            "100%|██████████| 300/300 [00:15<00:00, 19.74it/s]\n"
          ],
          "name": "stderr"
        },
        {
          "output_type": "stream",
          "text": [
            "Training time: 15.2003\n"
          ],
          "name": "stdout"
        }
      ]
    },
    {
      "cell_type": "markdown",
      "metadata": {
        "id": "24W4putK8B4K"
      },
      "source": [
        "Prediction"
      ]
    },
    {
      "cell_type": "code",
      "metadata": {
        "id": "9FCqOeOh8DFO"
      },
      "source": [
        " \n",
        "U1_pred, V1_pred = model.predict(x_star)\n",
        "h_pred = np.sqrt(U1_pred[:, -1:]**2 + V1_pred[:, -1:]**2)\n"
      ],
      "execution_count": null,
      "outputs": []
    },
    {
      "cell_type": "markdown",
      "metadata": {
        "id": "qGTOvggx8GKp"
      },
      "source": [
        "Plotting"
      ]
    },
    {
      "cell_type": "code",
      "metadata": {
        "colab": {
          "base_uri": "https://localhost:8080/",
          "height": 423
        },
        "id": "QLFR-5X_8HJK",
        "outputId": "6521e7b1-de0a-43f8-bfb9-7a64c9ec2f70"
      },
      "source": [
        " \n",
        "fig, [ax1, ax2, ax3] = plt.subplots(1,3)\n",
        " \n",
        "plot_slice(ax1, Exact_u,U1_pred[:, -1], idx_t1, x_star,t)\n",
        "plot_slice(ax2, Exact_v,V1_pred[:, -1], idx_t1, x_star,t)\n",
        "plot_slice(ax3, Exact_h,h_pred, idx_t1, x_star,t)\n",
        " \n",
        "fig_loss, ax_loss = plt.subplots(1,1)\n",
        "plot_Adam_history(ax_loss, loss_hist)"
      ],
      "execution_count": null,
      "outputs": [
        {
          "output_type": "execute_result",
          "data": {
            "text/plain": [
              "<matplotlib.axes._subplots.AxesSubplot at 0x7f1c12361dd0>"
            ]
          },
          "metadata": {
            "tags": []
          },
          "execution_count": 123
        },
        {
          "output_type": "display_data",
          "data": {
            "image/png": "[encoded data removed]",
            "text/plain": [
              "<Figure size 432x288 with 3 Axes>"
            ]
          },
          "metadata": {
            "tags": [],
            "needs_background": "light"
          }
        },
        {
          "output_type": "display_data",
          "data": {
            "image/png": "[encoded data removed]",
            "text/plain": [
              "<Figure size 432x288 with 1 Axes>"
            ]
          },
          "metadata": {
            "tags": [],
            "needs_background": "light"
          }
        }
      ]
    },
    {
      "cell_type": "markdown",
      "metadata": {
        "id": "YEzOXYO6GnzH"
      },
      "source": [
        "#dt = 0.15"
      ]
    },
    {
      "cell_type": "markdown",
      "metadata": {
        "id": "QSW_NI_4Gmd7"
      },
      "source": [
        "Setting\n"
      ]
    },
    {
      "cell_type": "code",
      "metadata": {
        "id": "Q35KlCp6Gmd7"
      },
      "source": [
        "q = 20\n",
        "layers = [2, 40, 40, 40, 40, 2*(q+1)]\n",
        "\n",
        "idx_t0 = 0\n",
        "idx_t1 = 20\n",
        "dt = t[idx_t1] - t[idx_t0]\n",
        "\n",
        "model = Schrodinger_PINN(x0, u0,v0, layers, dt, lb, ub, q)\n",
        "\n",
        "#model.model(x0)"
      ],
      "execution_count": null,
      "outputs": []
    },
    {
      "cell_type": "markdown",
      "metadata": {
        "id": "adfICOxBGmd-"
      },
      "source": [
        "Training"
      ]
    },
    {
      "cell_type": "code",
      "metadata": {
        "colab": {
          "base_uri": "https://localhost:8080/"
        },
        "id": "IDrsuqXUGmd_",
        "outputId": "817028d7-b9bf-44a7-98df-8e27911f0371"
      },
      "source": [
        " \n",
        "adam_iterations = 300     # Number of training steps \n",
        "lbfgs_max_iterations = 300 # Max iterations for lbfgs\n",
        "    \n",
        "loss_hist = model.train(adam_iterations, lbfgs_max_iterations)\n"
      ],
      "execution_count": null,
      "outputs": [
        {
          "output_type": "stream",
          "text": [
            "100%|██████████| 300/300 [00:15<00:00, 19.90it/s]\n"
          ],
          "name": "stderr"
        },
        {
          "output_type": "stream",
          "text": [
            "Training time: 15.0807\n"
          ],
          "name": "stdout"
        }
      ]
    },
    {
      "cell_type": "markdown",
      "metadata": {
        "id": "0J9Lmky4GmeD"
      },
      "source": [
        "Prediction"
      ]
    },
    {
      "cell_type": "code",
      "metadata": {
        "id": "TaXwhDhoGmeE"
      },
      "source": [
        " \n",
        "U1_pred, V1_pred = model.predict(x_star)\n",
        "h_pred = np.sqrt(U1_pred[:, -1:]**2 + V1_pred[:, -1:]**2)\n"
      ],
      "execution_count": null,
      "outputs": []
    },
    {
      "cell_type": "markdown",
      "metadata": {
        "id": "uU11vBgFGmeF"
      },
      "source": [
        "Plotting"
      ]
    },
    {
      "cell_type": "code",
      "metadata": {
        "colab": {
          "base_uri": "https://localhost:8080/",
          "height": 423
        },
        "id": "cKgN6GGaGmeG",
        "outputId": "9274bb56-b57d-4097-d93b-55accf5b4f36"
      },
      "source": [
        " \n",
        "fig, [ax1, ax2, ax3] = plt.subplots(1,3)\n",
        " \n",
        "plot_slice(ax1, Exact_u,U1_pred[:, -1], idx_t1, x_star,t)\n",
        "plot_slice(ax2, Exact_v,V1_pred[:, -1], idx_t1, x_star,t)\n",
        "plot_slice(ax3, Exact_h,h_pred, idx_t1, x_star,t)\n",
        " \n",
        "fig_loss, ax_loss = plt.subplots(1,1)\n",
        "plot_Adam_history(ax_loss, loss_hist)"
      ],
      "execution_count": null,
      "outputs": [
        {
          "output_type": "execute_result",
          "data": {
            "text/plain": [
              "<matplotlib.axes._subplots.AxesSubplot at 0x7f1c120ece10>"
            ]
          },
          "metadata": {
            "tags": []
          },
          "execution_count": 127
        },
        {
          "output_type": "display_data",
          "data": {
            "image/png": "[encoded data removed]",
            "text/plain": [
              "<Figure size 432x288 with 3 Axes>"
            ]
          },
          "metadata": {
            "tags": [],
            "needs_background": "light"
          }
        },
        {
          "output_type": "display_data",
          "data": {
            "image/png": "[encoded data removed]",
            "text/plain": [
              "<Figure size 432x288 with 1 Axes>"
            ]
          },
          "metadata": {
            "tags": [],
            "needs_background": "light"
          }
        }
      ]
    },
    {
      "cell_type": "markdown",
      "metadata": {
        "id": "gStoGbc7GTvz"
      },
      "source": [
        "#Utils"
      ]
    },
    {
      "cell_type": "markdown",
      "metadata": {
        "id": "-EMLpF2SGRZz"
      },
      "source": [
        "Save figure"
      ]
    },
    {
      "cell_type": "code",
      "metadata": {
        "id": "pcraX8ii8rlr"
      },
      "source": [
        " \n",
        "format = 'png'\n",
        " \n",
        "results = 'results.'+format\n",
        "loss = 'loss_hist.'+format\n",
        " \n",
        "fig.savefig(results)\n",
        "fig_loss.savefig(loss)"
      ],
      "execution_count": null,
      "outputs": []
    },
    {
      "cell_type": "code",
      "metadata": {
        "id": "xLNmQZuKTO-W"
      },
      "source": [
        ""
      ],
      "execution_count": null,
      "outputs": []
    }
  ]
}